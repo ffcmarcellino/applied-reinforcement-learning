{
 "cells": [
  {
   "cell_type": "code",
   "execution_count": 1,
   "metadata": {},
   "outputs": [],
   "source": [
    "import sys\n",
    "\n",
    "sys.path.insert(0, \"G:\\\\My Drive\\\\Projects\\\\applied-reinforcement-learning\")"
   ]
  },
  {
   "cell_type": "code",
   "execution_count": 2,
   "metadata": {},
   "outputs": [],
   "source": [
    "import numpy as np\n",
    "import time\n",
    "import gym\n",
    "import gym_maze\n",
    "\n",
    "from agents.generalized_policy_iteration import PolicyIteration, ValueIteration\n",
    "from agents.action_selection import policy_action_selection"
   ]
  },
  {
   "cell_type": "code",
   "execution_count": 3,
   "metadata": {},
   "outputs": [],
   "source": [
    "env = gym.make(\"maze-sample-30x30-v0\", enable_render=True)"
   ]
  },
  {
   "cell_type": "code",
   "execution_count": 13,
   "metadata": {},
   "outputs": [],
   "source": [
    "num_states = np.product(env.maze_size)\n",
    "num_actions = len(env.ACTION)\n",
    "initializer_params = {'init_method': 'zero'}\n",
    "terminal_states = [env.obs_to_state(env.maze_view.goal)]\n",
    "theta = 10e-4\n",
    "next_state_dynamics, reward_dynamics = env.get_dynamics()"
   ]
  },
  {
   "cell_type": "code",
   "execution_count": null,
   "metadata": {},
   "outputs": [],
   "source": []
  },
  {
   "cell_type": "code",
   "execution_count": 14,
   "metadata": {},
   "outputs": [],
   "source": [
    "polit = PolicyIteration(num_states, num_actions, initializer_params, terminal_states, theta, reward_dynamics, next_state_dynamics)"
   ]
  },
  {
   "cell_type": "code",
   "execution_count": 15,
   "metadata": {},
   "outputs": [],
   "source": [
    "polit.reset()"
   ]
  },
  {
   "cell_type": "code",
   "execution_count": 16,
   "metadata": {},
   "outputs": [],
   "source": [
    "polit.run()"
   ]
  },
  {
   "cell_type": "code",
   "execution_count": 17,
   "metadata": {},
   "outputs": [
    {
     "name": "stderr",
     "output_type": "stream",
     "text": [
      "C:\\Users\\fellipefcm\\anaconda3\\lib\\site-packages\\gym\\utils\\passive_env_checker.py:175: UserWarning: \u001b[33mWARN: Future gym versions will require that `Env.reset` can be passed a `seed` instead of using `Env.seed` for resetting the environment random number generator.\u001b[0m\n",
      "  \"Future gym versions will require that `Env.reset` can be passed a `seed` instead of using `Env.seed` for resetting the environment random number generator.\"\n",
      "C:\\Users\\fellipefcm\\anaconda3\\lib\\site-packages\\gym\\utils\\passive_env_checker.py:188: UserWarning: \u001b[33mWARN: Future gym versions will require that `Env.reset` can be passed `options` to allow the environment initialisation to be passed additional information.\u001b[0m\n",
      "  \"Future gym versions will require that `Env.reset` can be passed `options` to allow the environment initialisation to be passed additional information.\"\n",
      "C:\\Users\\fellipefcm\\anaconda3\\lib\\site-packages\\gym\\utils\\passive_env_checker.py:196: UserWarning: \u001b[33mWARN: The result returned by `env.reset()` was not a tuple of the form `(obs, info)`, where `obs` is a observation and `info` is a dictionary containing additional information. Actual type: `<class 'numpy.ndarray'>`\u001b[0m\n",
      "  f\"The result returned by `env.reset()` was not a tuple of the form `(obs, info)`, where `obs` is a observation and `info` is a dictionary containing additional information. Actual type: `{type(result)}`\"\n",
      "C:\\Users\\fellipefcm\\anaconda3\\lib\\site-packages\\gym\\utils\\passive_env_checker.py:273: UserWarning: \u001b[33mWARN: No render modes was declared in the environment (env.metadata['render_modes'] is None or not defined), you may have trouble when calling `.render()`.\u001b[0m\n",
      "  \"No render modes was declared in the environment (env.metadata['render_modes'] is None or not defined), you may have trouble when calling `.render()`.\"\n",
      "C:\\Users\\fellipefcm\\anaconda3\\lib\\site-packages\\gym\\utils\\passive_env_checker.py:239: UserWarning: \u001b[33mWARN: Expects `truncated` signal to be a boolean, actual type: <class 'NoneType'>\u001b[0m\n",
      "  f\"Expects `truncated` signal to be a boolean, actual type: {type(truncated)}\"\n",
      "C:\\Users\\fellipefcm\\anaconda3\\lib\\site-packages\\gym\\utils\\passive_env_checker.py:142: UserWarning: \u001b[33mWARN: The obs returned by the `step()` method was expecting numpy array dtype to be int64, actual type: int32\u001b[0m\n",
      "  f\"{pre} was expecting numpy array dtype to be {observation_space.dtype}, actual type: {obs.dtype}\"\n"
     ]
    }
   ],
   "source": [
    "obs = env.reset()\n",
    "env.render()\n",
    "for _ in range(num_states):\n",
    "    time.sleep(0.3)\n",
    "    action = policy_action_selection(polit.policy[env.obs_to_state(obs)])\n",
    "    obs, reward, done, _, _ = env.step(int(action))\n",
    "    env.render()\n",
    "    if done:\n",
    "        break\n",
    "# if np.array_equal(obs, env.maze_view.goal):\n",
    "#     env.render(close=True)"
   ]
  },
  {
   "cell_type": "code",
   "execution_count": null,
   "metadata": {},
   "outputs": [],
   "source": []
  },
  {
   "cell_type": "code",
   "execution_count": 18,
   "metadata": {},
   "outputs": [],
   "source": [
    "valit = ValueIteration(num_states, num_actions, initializer_params, terminal_states, theta, reward_dynamics, next_state_dynamics)"
   ]
  },
  {
   "cell_type": "code",
   "execution_count": 19,
   "metadata": {},
   "outputs": [],
   "source": [
    "valit.reset()"
   ]
  },
  {
   "cell_type": "code",
   "execution_count": 20,
   "metadata": {},
   "outputs": [],
   "source": [
    "valit.run()"
   ]
  },
  {
   "cell_type": "code",
   "execution_count": 23,
   "metadata": {},
   "outputs": [],
   "source": [
    "obs = env.reset()\n",
    "env.render()\n",
    "for _ in range(num_states):\n",
    "    time.sleep(0.3)\n",
    "    action = policy_action_selection(valit.policy[env.obs_to_state(obs)])\n",
    "    obs, reward, done, _, _ = env.step(int(action))\n",
    "    env.render()\n",
    "    if done:\n",
    "        break\n",
    "# if np.array_equal(obs, env.maze_view.goal):\n",
    "#     env.render(close=True)"
   ]
  },
  {
   "cell_type": "code",
   "execution_count": 24,
   "metadata": {},
   "outputs": [],
   "source": [
    "env.render(close=True)"
   ]
  },
  {
   "cell_type": "code",
   "execution_count": null,
   "metadata": {},
   "outputs": [],
   "source": []
  }
 ],
 "metadata": {
  "kernelspec": {
   "display_name": "Python 3",
   "language": "python",
   "name": "python3"
  },
  "language_info": {
   "codemirror_mode": {
    "name": "ipython",
    "version": 3
   },
   "file_extension": ".py",
   "mimetype": "text/x-python",
   "name": "python",
   "nbconvert_exporter": "python",
   "pygments_lexer": "ipython3",
   "version": "3.7.6"
  }
 },
 "nbformat": 4,
 "nbformat_minor": 4
}
